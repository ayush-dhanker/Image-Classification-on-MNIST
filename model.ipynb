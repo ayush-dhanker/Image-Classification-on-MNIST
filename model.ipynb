{
  "cells": [
    {
      "cell_type": "markdown",
      "metadata": {
        "id": "view-in-github",
        "colab_type": "text"
      },
      "source": [
        "<a href=\"https://colab.research.google.com/github/ayush-dhanker/Image-Classification-on-MNIST/blob/main/model.ipynb\" target=\"_parent\"><img src=\"https://colab.research.google.com/assets/colab-badge.svg\" alt=\"Open In Colab\"/></a>"
      ]
    },
    {
      "cell_type": "code",
      "source": [
        "# Imports\n",
        "import torch\n",
        "import torch.nn as nn\n",
        "import torch.optim as optim\n",
        "from torch.utils.data import DataLoader\n",
        "from torchvision import datasets, transforms\n",
        "import matplotlib.pyplot as plt"
      ],
      "metadata": {
        "id": "P2YXAtMqnOir"
      },
      "execution_count": null,
      "outputs": []
    },
    {
      "cell_type": "code",
      "source": [
        "# normalizing and transforming\n",
        "transform=transform.Compose([\n",
        "    transform.ToTensor(),\n",
        "    transform.Normalize((0.1307,),(0.0.3081,))\n",
        "])\n",
        "\n",
        "# Loading Datasets\n",
        "train_dataset=datasets.MNIST(root='./data',train=True,download=True,transform=transform)\n",
        "test_dataset=datasets.MNIST(root='./data',train=False,download=True,transform=transform)\n",
        "\n",
        "# Data loaders\n",
        "train_loader=DataLoader(train_dataset,batch_size=128,shuffle=True, drop_last=True, num_workers=5)\n",
        "test_loader=DataLoader(test_dataset,batch_size=128,shuffle=False, num_workers=8)"
      ],
      "metadata": {
        "id": "aWkp-5dgnPKy"
      },
      "execution_count": null,
      "outputs": []
    },
    {
      "cell_type": "code",
      "source": [
        "# model\n",
        "\n",
        "# model= nn.Sequential(\n",
        "      # nn.flatten(),\n",
        "#     nn.linear(784,512),\n",
        "#     nn.ReLU(),\n",
        "#     nn.linear(512,128),\n",
        "#     nn.ReLU(),\n",
        "#     nn.linear(128,10).to(device)\n",
        "# )\n",
        "\n",
        "# print(\"model = \",model)\n",
        "# with torch.no_grad():\n",
        "#     print(\"Maximum weight before custom init: \", model[1].weight.max())\n",
        "\n",
        "\n",
        "# def glorot_init(layer: nn.Module):\n",
        "#     if isinstance(layer, nn.Linear):\n",
        "#         nn.init.xavier_uniform_(layer.weight)\n",
        "#         nn.init.zeros_(layer.bias)\n",
        "\n",
        "\n",
        "# with torch.no_grad():\n",
        "#     model.apply(glorot_init)\n",
        "#     print(\"Maximum weight after custom init\", model[1].weight.max())\n",
        "class myNN(nn.Module):\n",
        "    def __init__(self):\n",
        "        super().__init__()\n",
        "        self.model = nn.Sequential(\n",
        "            nn.Flatten(),\n",
        "            nn.linear(784,512),\n",
        "            nn.ReLU(),\n",
        "            nn.linear(512,128),\n",
        "            nn.ReLU(),\n",
        "            nn.linear(128,10)\n",
        "        )\n",
        "\n",
        "    def forward(self, x):\n",
        "        return self.model(x)\n"
      ],
      "metadata": {
        "id": "_Mi2-pD4z9mg"
      },
      "execution_count": null,
      "outputs": []
    },
    {
      "cell_type": "code",
      "source": [
        "# model training"
      ],
      "metadata": {
        "id": "ZYicLT-Y6jYo"
      },
      "execution_count": null,
      "outputs": []
    }
  ],
  "metadata": {
    "language_info": {
      "name": "python"
    },
    "colab": {
      "provenance": [],
      "include_colab_link": true
    }
  },
  "nbformat": 4,
  "nbformat_minor": 0
}