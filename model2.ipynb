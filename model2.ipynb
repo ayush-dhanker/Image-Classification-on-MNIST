{
  "nbformat": 4,
  "nbformat_minor": 0,
  "metadata": {
    "colab": {
      "provenance": [],
      "authorship_tag": "ABX9TyPIwioZDJynC76tkyz1ju2Y",
      "include_colab_link": true
    },
    "kernelspec": {
      "name": "python3",
      "display_name": "Python 3"
    },
    "language_info": {
      "name": "python"
    }
  },
  "cells": [
    {
      "cell_type": "markdown",
      "metadata": {
        "id": "view-in-github",
        "colab_type": "text"
      },
      "source": [
        "<a href=\"https://colab.research.google.com/github/ayush-dhanker/Image-Classification-on-MNIST/blob/main/model2.ipynb\" target=\"_parent\"><img src=\"https://colab.research.google.com/assets/colab-badge.svg\" alt=\"Open In Colab\"/></a>"
      ]
    },
    {
      "cell_type": "code",
      "execution_count": 33,
      "metadata": {
        "id": "VIxpPiQQOyIK"
      },
      "outputs": [],
      "source": [
        "from time import perf_counter\n",
        "import numpy as np\n",
        "import torch\n",
        "import torch.nn as nn\n",
        "import torch.optim as optim\n",
        "from torchvision import datasets, transforms\n",
        "from torch.utils.data import DataLoader\n",
        "import matplotlib.pyplot as plt"
      ]
    },
    {
      "cell_type": "code",
      "source": [
        "# normalizing and transforming\n",
        "transform=transforms.Compose([\n",
        "    transforms.ToTensor(),\n",
        "    transforms.Normalize((0.1307,),(0.3081,))\n",
        "])\n",
        "\n",
        "# Loading Datasets\n",
        "train_dataset=datasets.MNIST(root='./data',train=True,download=True,transform=transform)\n",
        "test_dataset=datasets.MNIST(root='./data',train=False,download=True,transform=transform)\n",
        "\n",
        "# Data loaders\n",
        "train_loader=DataLoader(train_dataset,batch_size=128,shuffle=True, drop_last=True, num_workers=2)\n",
        "test_loader=DataLoader(test_dataset,batch_size=128,shuffle=False, num_workers=2)\n",
        "\n",
        "print(int(len(train_loader.dataset)/train_loader.batch_size))"
      ],
      "metadata": {
        "id": "xg3eR8CzPpAD",
        "colab": {
          "base_uri": "https://localhost:8080/"
        },
        "outputId": "39e89ead-a5d8-4cc1-f699-14f316e36e4d"
      },
      "execution_count": 34,
      "outputs": [
        {
          "output_type": "stream",
          "name": "stdout",
          "text": [
            "468\n"
          ]
        }
      ]
    },
    {
      "cell_type": "code",
      "source": [
        "device = \"cuda\" if torch.cuda.is_available() else \"cpu\"\n",
        "print(f\"Using {device} device\")\n",
        "\n",
        "# building model\n",
        "model= nn.Sequential(\n",
        "      nn.Flatten(),\n",
        "      nn.Linear(784,512),\n",
        "      nn.ReLU(),\n",
        "      nn.Linear(512,128),\n",
        "      nn.ReLU(),\n",
        "      nn.Linear(128,10)\n",
        ").to(device)\n",
        "\n",
        "print(\"model = \",model)\n",
        "with torch.no_grad():\n",
        "    print(\"Maximum weight before custom init: \", model[1].weight.max())\n",
        "\n",
        "\n",
        "def glorot_init(layer: nn.Module):\n",
        "    if isinstance(layer, nn.Linear):\n",
        "        nn.init.xavier_uniform_(layer.weight)\n",
        "        nn.init.zeros_(layer.bias)\n",
        "\n",
        "\n",
        "with torch.no_grad():\n",
        "    model.apply(glorot_init)\n",
        "    print(\"Maximum weight after custom init\", model[1].weight.max())"
      ],
      "metadata": {
        "id": "YeMNG2PAP-_W",
        "colab": {
          "base_uri": "https://localhost:8080/"
        },
        "outputId": "01312d23-1e02-417a-a4d6-ac7e1153ae9a"
      },
      "execution_count": 35,
      "outputs": [
        {
          "output_type": "stream",
          "name": "stdout",
          "text": [
            "Using cpu device\n",
            "model =  Sequential(\n",
            "  (0): Flatten(start_dim=1, end_dim=-1)\n",
            "  (1): Linear(in_features=784, out_features=512, bias=True)\n",
            "  (2): ReLU()\n",
            "  (3): Linear(in_features=512, out_features=128, bias=True)\n",
            "  (4): ReLU()\n",
            "  (5): Linear(in_features=128, out_features=10, bias=True)\n",
            ")\n",
            "Maximum weight before custom init:  tensor(0.0357)\n",
            "Maximum weight after custom init tensor(0.0680)\n"
          ]
        }
      ]
    },
    {
      "cell_type": "code",
      "source": [
        "loss_fn=nn.CrossEntropyLoss()\n",
        "optimizer=optim.SGD(model.parameters(), lr=0.03)"
      ],
      "metadata": {
        "id": "-dxanqodQ8yB"
      },
      "execution_count": 36,
      "outputs": []
    },
    {
      "cell_type": "code",
      "source": [
        "# train_model\n",
        "def train_model(\n",
        "    model: nn.Module,\n",
        "    loss_fn: nn.Module,\n",
        "    optimizer: optim.Optimizer,\n",
        "    training_loader: DataLoader,\n",
        "    validation_loader: DataLoader,\n",
        "    n_epochs:int,\n",
        "    verbose:bool=True\n",
        "    ):\n",
        "\n",
        "\n",
        "\n",
        "  train_len=len(training_loader.dataset)\n",
        "  steps_per_epoch = train_len//training_loader.batch_size\n",
        "\n",
        "  print(\"Running {} epochs at {} steps per epoch \".format(n_epochs,steps_per_epoch))\n",
        "\n",
        "  train_acc=[]\n",
        "  train_loss=[]\n",
        "  val_acc=[]\n",
        "  val_loss=[]\n",
        "\n",
        "  for epoch in range(n_epochs):\n",
        "    if verbose:\n",
        "            print(\"Starting epoch {}...\".format(epoch + 1), end=\" \")\n",
        "\n",
        "    start_time = perf_counter()\n",
        "    epoch_train_loss=[]\n",
        "    epoch_train_acc=[]\n",
        "\n",
        "    model.train()\n",
        "    for batch_idx,(input_batch,label_batch) in enumerate(training_loader):\n",
        "      batch_loss,batch_accuracy = training_set(input_batch,label_batch,model,loss_fn,optimizer)\n",
        "      epoch_train_loss.append(batch_loss.item())\n",
        "      epoch_train_acc.append(batch_accuracy.item())\n",
        "\n",
        "    end_time = perf_counter()\n",
        "    time_taken = end_time - start_time\n",
        "\n",
        "    # evaluating\n",
        "    validation_loss, val_accuracy = evaluate(model,validation_loader,loss_fn)\n",
        "\n",
        "    val_acc.append(val_accuracy.item())\n",
        "    val_loss.append(validation_loss.item())\n",
        "    train_acc.append(np.mean(epoch_train_acc))\n",
        "    train_loss.append(np.mean(epoch_train_loss))\n",
        "\n",
        "    if verbose:\n",
        "            print(\"Time taken: {} seconds\".format(time_taken))\n",
        "            print(\"\\tTrain/val loss: {} / {}\".format(train_loss[-1], val_loss[-1]))\n",
        "            print(\"\\tTrain/val accuracy: {} / {}\".format(train_acc[-1], val_acc[-1]))\n",
        "\n",
        "  return {\"train_loss\": np.array(train_loss), \"train_acc\": np.array(train_acc),\n",
        "            \"val_loss\": np.array(val_loss), \"val_acc\": np.array(val_acc)}\n",
        "\n",
        "\n",
        "def training_set(\n",
        "      input: torch.tensor,\n",
        "      label: torch.tensor,\n",
        "      model: nn.Module,\n",
        "      loss_fn: nn.Module,\n",
        "      optimizer: optim.Optimizer):\n",
        "\n",
        "    input=input.to(device)\n",
        "    label=label.to(device)\n",
        "    output_batch=model(input)\n",
        "    loss_batch=loss_fn(output_batch, label)\n",
        "\n",
        "    loss_batch.backward()\n",
        "    optimizer.step()\n",
        "    optimizer.zero_grad()\n",
        "\n",
        "    with torch.no_grad():\n",
        "      batch_acc=accuracy(label,output_batch)\n",
        "    # see loss_batch.item()\n",
        "    return loss_batch, batch_acc\n",
        "\n",
        "\n",
        "def evaluate(\n",
        "      model:nn.Module,\n",
        "      dataloader:DataLoader,\n",
        "      loss_fn:nn.Module):\n",
        "    model.eval()\n",
        "    size=len(dataloader.dataset)\n",
        "    num_batches=len(dataloader)\n",
        "    loss,correct=0,0\n",
        "\n",
        "    with torch.no_grad():\n",
        "      for input,label in dataloader:\n",
        "        input=input.to(device)\n",
        "        label=label.to(device)\n",
        "        prediction=model(input)\n",
        "        loss+=loss_fn(prediction,label)\n",
        "        correct += (prediction.argmax(axis=1)==label).type(torch.float).sum()\n",
        "\n",
        "    loss/=num_batches\n",
        "    val_accuracy=correct/size\n",
        "    return loss, val_accuracy\n",
        "\n",
        "def accuracy(labels:torch.tensor,\n",
        "               outputs:torch.tensor)->torch.tensor:\n",
        "               predictions=torch.argmax(outputs,axis=-1)\n",
        "               matches=labels==predictions\n",
        "               return matches.float().mean()"
      ],
      "metadata": {
        "id": "L_0XP60AOrhb"
      },
      "execution_count": 37,
      "outputs": []
    },
    {
      "cell_type": "code",
      "source": [
        "metrics = train_model(model, loss_fn, optimizer, train_loader, test_loader, n_epochs=25)"
      ],
      "metadata": {
        "id": "TA6a9PLrQ76t",
        "colab": {
          "base_uri": "https://localhost:8080/"
        },
        "outputId": "6a346c89-fe33-453e-9b8b-faf80b673d5f"
      },
      "execution_count": 38,
      "outputs": [
        {
          "metadata": {
            "tags": null
          },
          "name": "stdout",
          "output_type": "stream",
          "text": [
            "Running 25 epochs at 468 steps per epoch \n",
            "Starting epoch 1... Time taken: 18.685547142000132 seconds\n",
            "\tTrain/val loss: 0.35208310355615413 / 0.20009829103946686\n",
            "\tTrain/val accuracy: 0.9000567574786325 / 0.9433000087738037\n",
            "Starting epoch 2... Time taken: 17.111209690000123 seconds\n",
            "\tTrain/val loss: 0.17585891127809244 / 0.14923062920570374\n",
            "\tTrain/val accuracy: 0.9498364049145299 / 0.9574000239372253\n",
            "Starting epoch 3... Time taken: 18.251621425000167 seconds\n",
            "\tTrain/val loss: 0.13279895920656684 / 0.12321174889802933\n",
            "\tTrain/val accuracy: 0.9629573985042735 / 0.963699996471405\n",
            "Starting epoch 4... Time taken: 17.06309150700008 seconds\n",
            "\tTrain/val loss: 0.106098577611021 / 0.11265706270933151\n",
            "\tTrain/val accuracy: 0.9705695779914529 / 0.9660999774932861\n",
            "Starting epoch 5... Time taken: 18.630344487000002 seconds\n",
            "\tTrain/val loss: 0.08838690444031078 / 0.09828490763902664\n",
            "\tTrain/val accuracy: 0.9754941239316239 / 0.9700000286102295\n",
            "Starting epoch 6... Time taken: 17.026212357000077 seconds\n",
            "\tTrain/val loss: 0.07519215719503725 / 0.09167584776878357\n",
            "\tTrain/val accuracy: 0.9789663461538461 / 0.9715999960899353\n",
            "Starting epoch 7... Time taken: 18.599636347000114 seconds\n",
            "\tTrain/val loss: 0.06434654028743951 / 0.089052714407444\n",
            "\tTrain/val accuracy: 0.9826221955128205 / 0.9714999794960022\n",
            "Starting epoch 8... Time taken: 17.45524129499995 seconds\n",
            "\tTrain/val loss: 0.055910246472598776 / 0.08113942295312881\n",
            "\tTrain/val accuracy: 0.9853432158119658 / 0.9739000201225281\n",
            "Starting epoch 9... Time taken: 18.57824028799996 seconds\n",
            "\tTrain/val loss: 0.048908739288050965 / 0.07782354950904846\n",
            "\tTrain/val accuracy: 0.9873130341880342 / 0.9754999876022339\n",
            "Starting epoch 10... Time taken: 18.61049557199999 seconds\n",
            "\tTrain/val loss: 0.04304075862169584 / 0.0741099864244461\n",
            "\tTrain/val accuracy: 0.988815438034188 / 0.9761000275611877\n",
            "Starting epoch 11... Time taken: 18.98307343700003 seconds\n",
            "\tTrain/val loss: 0.037800653715235874 / 0.07280489802360535\n",
            "\tTrain/val accuracy: 0.9908353365384616 / 0.9760000109672546\n",
            "Starting epoch 12... Time taken: 16.726259356000128 seconds\n",
            "\tTrain/val loss: 0.03334006132920169 / 0.0702255368232727\n",
            "\tTrain/val accuracy: 0.9923544337606838 / 0.9768999814987183\n",
            "Starting epoch 13... Time taken: 17.86143441199988 seconds\n",
            "\tTrain/val loss: 0.029755782316096574 / 0.0717025026679039\n",
            "\tTrain/val accuracy: 0.9931223290598291 / 0.9757000207901001\n",
            "Starting epoch 14... Time taken: 16.883038007000096 seconds\n",
            "\tTrain/val loss: 0.026666543129075352 / 0.06894929707050323\n",
            "\tTrain/val accuracy: 0.9942574786324786 / 0.9775000214576721\n",
            "Starting epoch 15... Time taken: 17.67648812199991 seconds\n",
            "\tTrain/val loss: 0.02354860251956484 / 0.06624586135149002\n",
            "\tTrain/val accuracy: 0.9952757745726496 / 0.9778000116348267\n",
            "Starting epoch 16... Time taken: 16.47509212099999 seconds\n",
            "\tTrain/val loss: 0.02109361927992163 / 0.06953383982181549\n",
            "\tTrain/val accuracy: 0.9960102831196581 / 0.9768000245094299\n",
            "Starting epoch 17... Time taken: 17.56357679199982 seconds\n",
            "\tTrain/val loss: 0.018813888052812755 / 0.06643227487802505\n",
            "\tTrain/val accuracy: 0.9968449519230769 / 0.9779000282287598\n",
            "Starting epoch 18... Time taken: 17.086451562999855 seconds\n",
            "\tTrain/val loss: 0.016786278497117262 / 0.06428716331720352\n",
            "\tTrain/val accuracy: 0.9974292200854701 / 0.9799000024795532\n",
            "Starting epoch 19... Time taken: 17.30779067100002 seconds\n",
            "\tTrain/val loss: 0.015191095026954213 / 0.06467732787132263\n",
            "\tTrain/val accuracy: 0.9976963141025641 / 0.9804999828338623\n",
            "Starting epoch 20... Time taken: 17.126685220000127 seconds\n",
            "\tTrain/val loss: 0.013606930748085912 / 0.06510315090417862\n",
            "\tTrain/val accuracy: 0.9982138087606838 / 0.9783999919891357\n",
            "Starting epoch 21... Time taken: 16.710747470000115 seconds\n",
            "\tTrain/val loss: 0.012259971984248195 / 0.06348968297243118\n",
            "\tTrain/val accuracy: 0.9986478365384616 / 0.9793999791145325\n",
            "Starting epoch 22... Time taken: 17.270365834999666 seconds\n",
            "\tTrain/val loss: 0.011016380356258562 / 0.06620492786169052\n",
            "\tTrain/val accuracy: 0.9989149305555556 / 0.9779999852180481\n",
            "Starting epoch 23... Time taken: 16.933540429000004 seconds\n",
            "\tTrain/val loss: 0.010242384678831436 / 0.06375082582235336\n",
            "\tTrain/val accuracy: 0.9990317841880342 / 0.980400025844574\n",
            "Starting epoch 24... Time taken: 17.88869107299979 seconds\n",
            "\tTrain/val loss: 0.009145602073946282 / 0.06390126794576645\n",
            "\tTrain/val accuracy: 0.9992821848290598 / 0.9789999723434448\n",
            "Starting epoch 25... Time taken: 16.557425350000358 seconds\n",
            "\tTrain/val loss: 0.008406744516677517 / 0.06589192897081375\n",
            "\tTrain/val accuracy: 0.9994825053418803 / 0.9797999858856201\n"
          ]
        }
      ]
    },
    {
      "cell_type": "code",
      "source": [
        "print(metrics)"
      ],
      "metadata": {
        "id": "fJ_57MQF4iz5",
        "outputId": "aa42e1ca-61a5-4682-81ae-99eba1057387",
        "colab": {
          "base_uri": "https://localhost:8080/"
        }
      },
      "execution_count": 39,
      "outputs": [
        {
          "metadata": {
            "tags": null
          },
          "name": "stdout",
          "output_type": "stream",
          "text": [
            "{'train_loss': array([0.3520831 , 0.17585891, 0.13279896, 0.10609858, 0.0883869 ,\n",
            "       0.07519216, 0.06434654, 0.05591025, 0.04890874, 0.04304076,\n",
            "       0.03780065, 0.03334006, 0.02975578, 0.02666654, 0.0235486 ,\n",
            "       0.02109362, 0.01881389, 0.01678628, 0.0151911 , 0.01360693,\n",
            "       0.01225997, 0.01101638, 0.01024238, 0.0091456 , 0.00840674]), 'train_acc': array([0.90005676, 0.9498364 , 0.9629574 , 0.97056958, 0.97549412,\n",
            "       0.97896635, 0.9826222 , 0.98534322, 0.98731303, 0.98881544,\n",
            "       0.99083534, 0.99235443, 0.99312233, 0.99425748, 0.99527577,\n",
            "       0.99601028, 0.99684495, 0.99742922, 0.99769631, 0.99821381,\n",
            "       0.99864784, 0.99891493, 0.99903178, 0.99928218, 0.99948251]), 'val_loss': array([0.20009829, 0.14923063, 0.12321175, 0.11265706, 0.09828491,\n",
            "       0.09167585, 0.08905271, 0.08113942, 0.07782355, 0.07410999,\n",
            "       0.0728049 , 0.07022554, 0.0717025 , 0.0689493 , 0.06624586,\n",
            "       0.06953384, 0.06643227, 0.06428716, 0.06467733, 0.06510315,\n",
            "       0.06348968, 0.06620493, 0.06375083, 0.06390127, 0.06589193]), 'val_acc': array([0.94330001, 0.95740002, 0.9637    , 0.96609998, 0.97000003,\n",
            "       0.9716    , 0.97149998, 0.97390002, 0.97549999, 0.97610003,\n",
            "       0.97600001, 0.97689998, 0.97570002, 0.97750002, 0.97780001,\n",
            "       0.97680002, 0.97790003, 0.9799    , 0.98049998, 0.97839999,\n",
            "       0.97939998, 0.97799999, 0.98040003, 0.97899997, 0.97979999])}\n"
          ]
        }
      ]
    },
    {
      "cell_type": "code",
      "source": [
        "# visualization\n",
        "plt.plot(metrics[\"train_loss\"], label=\"train\")\n",
        "plt.plot(metrics[\"val_loss\"], label=\"validation\")\n",
        "plt.legend()\n",
        "plt.title(\"Loss\")\n",
        "plt.xlabel(\"Epoch\")\n",
        "plt.show()\n",
        "\n",
        "print('\\n')\n",
        "\n",
        "plt.plot(metrics[\"train_acc\"], label=\"train\")\n",
        "plt.plot(metrics[\"val_acc\"], label=\"validation\")\n",
        "plt.legend()\n",
        "plt.title(\"Accuracy\")\n",
        "plt.xlabel(\"Epoch\")\n",
        "plt.show()"
      ],
      "metadata": {
        "id": "x59nqFrU18t1",
        "outputId": "9892df17-e2ae-4209-acd5-8c69523eaa2c",
        "colab": {
          "base_uri": "https://localhost:8080/",
          "height": 962
        }
      },
      "execution_count": 40,
      "outputs": [
        {
          "data": {
            "image/png": "[encoded data removed]",
            "text/plain": [
              "<Figure size 640x480 with 1 Axes>"
            ]
          },
          "metadata": {},
          "output_type": "display_data"
        },
        {
          "metadata": {
            "tags": null
          },
          "name": "stdout",
          "output_type": "stream",
          "text": [
            "\n",
            "\n"
          ]
        },
        {
          "data": {
            "image/png": "[encoded data removed]",
            "text/plain": [
              "<Figure size 640x480 with 1 Axes>"
            ]
          },
          "metadata": {},
          "output_type": "display_data"
        }
      ]
    },
    {
      "cell_type": "markdown",
      "source": [
        "### 1. Loss Graph\n",
        "- Validation loss stops decreasing while training loss continues to drop after **epoch 10–12**.\n",
        "- **Overfitting** may be happening.\n",
        "\n",
        "**Solution:**  \n",
        "- Use **Early Stopping** or apply **Regularization Techniques** (e.g., dropout, L2 regularization).\n",
        "\n",
        "---\n",
        "\n",
        "### 2. Accuracy Graph\n",
        "- Training accuracy reaches **100%**, indicating the model is **overfitting**.\n",
        "- Validation accuracy remains high at around **98%**, showing the model still generalizes fairly well.\n"
      ],
      "metadata": {
        "id": "KFlJDDuxYRy3"
      }
    }
  ]
}